{
 "cells": [
  {
   "cell_type": "markdown",
   "metadata": {},
   "source": [
    "# Worksheet 04\n",
    "\n",
    "Name: Rithvik Nakirikanti, Jeremy Bui, Zuizz Saeed\n",
    "\n",
    "\n",
    "UID: U57718462, U8738328 U19767343\n",
    "\n",
    "### Topics\n",
    "\n",
    "- Distance & Similarity"
   ]
  },
  {
   "cell_type": "markdown",
   "metadata": {},
   "source": [
    "### Distance & Similarity\n",
    "\n",
    "#### Part 1\n",
    "\n",
    "a) In the minkowski distance, describe what the parameters p and d are."
   ]
  },
  {
   "cell_type": "markdown",
   "metadata": {},
   "source": [
    "d represents a d-dimensional space. you can use the parameter p and change its value to essentially change the distance function that is going to be used. For example p = 1 represents Manhattan distance while p = 2 represents Euclidean distance."
   ]
  },
  {
   "cell_type": "markdown",
   "metadata": {},
   "source": [
    "b) In your own words describe the difference between the Euclidean distance and the Manhattan distance."
   ]
  },
  {
   "cell_type": "markdown",
   "metadata": {},
   "source": [
    "With Manhattan distance, you can't go along diagonals, only move along x and y. With Euclidean Distance, it is possible to move along the diagonal to find the shortest path/distance to two points for example."
   ]
  },
  {
   "cell_type": "markdown",
   "metadata": {},
   "source": [
    "Consider A = (0, 0) and B = (1, 1). When:\n",
    "\n",
    "- p = 1, d(A, B) = 2\n",
    "- p = 2, d(A, B) = $\\sqrt{2} = 1.41$\n",
    "- p = 3, d(A, B) = $2^{1/3} = 1.26$\n",
    "- p = 4, d(A, B) = $2^{1/4} = 1.19$\n",
    "\n",
    "c) Describe what you think distance would look like when p is very large."
   ]
  },
  {
   "cell_type": "markdown",
   "metadata": {},
   "source": [
    "The distance will get very close but never get exactly to 1 as p gets very large. "
   ]
  },
  {
   "cell_type": "markdown",
   "metadata": {},
   "source": [
    "d) Is the minkowski distance still a distance function when p < 1? Expain why / why not."
   ]
  },
  {
   "cell_type": "markdown",
   "metadata": {},
   "source": [
    "No, it wouldn't be because when p < 1, it would be a smaller distance to go through a point and then the destination than going to the destination directly which would violate the triangle inequality."
   ]
  },
  {
   "cell_type": "markdown",
   "metadata": {},
   "source": [
    "e) when would you use cosine similarity over the euclidan distance?"
   ]
  },
  {
   "cell_type": "markdown",
   "metadata": {},
   "source": [
    "Cosine similarity is more helpful when you are interested in the direction/order of vectors than the magnitude itself."
   ]
  },
  {
   "cell_type": "markdown",
   "metadata": {},
   "source": [
    "f) what does the jaccard distance account for that the manhattan distance doesn't?"
   ]
  },
  {
   "cell_type": "markdown",
   "metadata": {},
   "source": [
    "The Jaccard also takes into consideration the size of the intersection which Manhattan doesn't do. More technically, the Jaccard distance considers the relative similarity of sets by considering the intersection over the union."
   ]
  },
  {
   "cell_type": "markdown",
   "metadata": {},
   "source": [
    "#### Part 2\n",
    "\n",
    "Consider the following two sentences:"
   ]
  },
  {
   "cell_type": "code",
   "execution_count": 11,
   "metadata": {},
   "outputs": [],
   "source": [
    "s1 = \"hello my name is Alice\"  \n",
    "s2 = \"hello my name is Bob\""
   ]
  },
  {
   "cell_type": "markdown",
   "metadata": {},
   "source": [
    "using the union of words from both sentences, we can represent each sentence as a vector. Each element of the vector represents the presence or absence of the word at that index.\n",
    "\n",
    "In this example, the union of words is (\"hello\", \"my\", \"name\", \"is\", \"Alice\", \"Bob\") so we can represent the above sentences as such:"
   ]
  },
  {
   "cell_type": "code",
   "execution_count": 4,
   "metadata": {},
   "outputs": [],
   "source": [
    "v1 = [1,    1, 1,   1, 1,    0]\n",
    "#     hello my name is Alice\n",
    "v2 = [1,    1, 1,   1, 0, 1]\n",
    "#     hello my name is    Bob"
   ]
  },
  {
   "cell_type": "markdown",
   "metadata": {},
   "source": [
    "Programmatically, we can do the following:"
   ]
  },
  {
   "cell_type": "code",
   "execution_count": 5,
   "metadata": {},
   "outputs": [
    {
     "name": "stdout",
     "output_type": "stream",
     "text": [
      "['name', 'is', 'my', 'Alice', 'hello', 'Bob']\n",
      "[1, 1, 1, 1, 1, 0]\n"
     ]
    }
   ],
   "source": [
    "corpus = [s1, s2]\n",
    "all_words = list(set([item for x in corpus for item in x.split()]))\n",
    "print(all_words)\n",
    "v1 = [1 if x in s1 else 0 for x in all_words]\n",
    "print(v1)"
   ]
  },
  {
   "cell_type": "markdown",
   "metadata": {},
   "source": [
    "Let's add a new sentence to our corpus:"
   ]
  },
  {
   "cell_type": "code",
   "execution_count": 6,
   "metadata": {},
   "outputs": [],
   "source": [
    "s3 = \"hi my name is Claude\"\n",
    "corpus.append(s3)"
   ]
  },
  {
   "cell_type": "markdown",
   "metadata": {},
   "source": [
    "a) What is the new union of words used to represent s1, s2, and s3?"
   ]
  },
  {
   "cell_type": "code",
   "execution_count": 7,
   "metadata": {},
   "outputs": [
    {
     "name": "stdout",
     "output_type": "stream",
     "text": [
      "['name', 'is', 'hi', 'my', 'Claude', 'Alice', 'hello', 'Bob']\n"
     ]
    }
   ],
   "source": [
    "all_words = list(set([item for x in corpus for item in x.split()]))\n",
    "print(all_words)"
   ]
  },
  {
   "cell_type": "markdown",
   "metadata": {},
   "source": [
    "b) Represent s1, s2, and s3 as vectors as above, using this new set of words."
   ]
  },
  {
   "cell_type": "code",
   "execution_count": 8,
   "metadata": {},
   "outputs": [
    {
     "name": "stdout",
     "output_type": "stream",
     "text": [
      "[1, 1, 0, 1, 0, 1, 1, 0]\n",
      "[1, 1, 0, 1, 0, 0, 1, 1]\n",
      "[1, 1, 1, 1, 1, 0, 0, 0]\n"
     ]
    }
   ],
   "source": [
    "v1 = [1 if x in s1 else 0 for x in all_words]\n",
    "print(v1)\n",
    "v2 = [1 if x in s2 else 0 for x in all_words]\n",
    "print(v2)\n",
    "v3 = [1 if x in s3 else 0 for x in all_words]\n",
    "print(v3)"
   ]
  },
  {
   "cell_type": "markdown",
   "metadata": {},
   "source": [
    "c) Write a function that computes the manhattan distance between two vectors. Which pair of vectors are the most similar under that distance function?"
   ]
  },
  {
   "cell_type": "code",
   "execution_count": 9,
   "metadata": {},
   "outputs": [
    {
     "name": "stdout",
     "output_type": "stream",
     "text": [
      "1.4142135623730951\n",
      "2.0\n"
     ]
    }
   ],
   "source": [
    "def minkowski(x,y,p):\n",
    "    if len(x) != len(y):\n",
    "        raise RuntimeError(\"x and y should be the same dimension\")\n",
    "    \n",
    "    res = 0\n",
    "    for i in range(len(x)):\n",
    "        res += abs(x[i] - y[i]) ** p\n",
    "    return res ** (1/p)\n",
    "\n",
    "print(minkowski([0,0], [1,1], 2)) # expect sqrt of 2\n",
    "print(minkowski([0,0], [1,1], 1)) #expect 2"
   ]
  },
  {
   "cell_type": "markdown",
   "metadata": {},
   "source": []
  },
  {
   "cell_type": "markdown",
   "metadata": {},
   "source": [
    "d) Create a matrix of all these vectors (row major) and add the following sentences in vector form:\n",
    "\n",
    "- \"hi Alice\"\n",
    "- \"hello Claude\"\n",
    "- \"Bob my name is Claude\"\n",
    "- \"hi Claude my name is Alice\"\n",
    "- \"hello Bob\""
   ]
  },
  {
   "cell_type": "code",
   "execution_count": 10,
   "metadata": {},
   "outputs": [
    {
     "name": "stdout",
     "output_type": "stream",
     "text": [
      "['name', 'is', 'hi', 'my', 'Claude', 'Alice', 'hello', 'Bob']\n",
      "[1, 1, 0, 1, 0, 1, 1, 0]\n",
      "[0, 0, 1, 0, 0, 0, 1, 0]\n",
      "[0, 0, 0, 0, 0, 1, 0, 1]\n",
      "[1, 1, 0, 1, 1, 1, 0, 0]\n",
      "[1, 1, 1, 1, 0, 1, 1, 0]\n",
      "[0, 0, 0, 0, 1, 0, 0, 1]\n",
      "[1, 1, 0, 1, 0, 0, 1, 1]\n",
      "[1, 1, 0, 1, 1, 0, 0, 1]\n"
     ]
    }
   ],
   "source": [
    "s1 = \"hello my name is Alice\"  \n",
    "s2 = \"hello my name is Bob\"\n",
    "sentences = [\n",
    "    \"hi Alice\",\n",
    "    \"hello Claude\",\n",
    "    \"Bob my name is Claude\",\n",
    "    \"hi Claude my name is Alice\",\n",
    "    \"hello Bob\"\n",
    "]\n",
    "\n",
    "matrix = []\n",
    "all_words = list(set([item for x in corpus for item in x.split()]))\n",
    "print(all_words)\n",
    "v1 = [1 if x in s1 else 0 for x in all_words]\n",
    "print(v1)\n",
    "\n",
    "\n",
    "class Matrix:\n",
    "    def __init__(self, rows, columns):\n",
    "        self.rows = rows\n",
    "        self.columns = columns\n",
    "        self.matrix = [[0] * columns for _ in range(rows)]\n",
    "    def add(self, row, vector):\n",
    "        self.matrix[row] = vector\n",
    "    def display(self):\n",
    "        for row in self.matrix:\n",
    "            print(row)        \n",
    "\n",
    "def sentence_to_vector(sentence, all_words):\n",
    "    vector = [1 if word in sentence else 0 for word in all_words]\n",
    "    return vector\n",
    "\n",
    "corpus = sentences + [s1, s2]\n",
    "\n",
    "all_words = list(set([word for sentence in corpus for word in sentence.split()]))\n",
    "\n",
    "num_sentences = len(corpus)\n",
    "num_words = len(all_words)\n",
    "matrix = Matrix(num_sentences, num_words)\n",
    "\n",
    "for i, sentence in enumerate(corpus):\n",
    "    vector = sentence_to_vector(sentence, all_words)\n",
    "    matrix.add(i, vector)\n",
    "\n",
    "matrix.display()"
   ]
  },
  {
   "cell_type": "markdown",
   "metadata": {},
   "source": [
    "e) How many rows and columns does this matrix have?"
   ]
  },
  {
   "cell_type": "code",
   "execution_count": 11,
   "metadata": {},
   "outputs": [
    {
     "ename": "SyntaxError",
     "evalue": "invalid syntax (2340124855.py, line 1)",
     "output_type": "error",
     "traceback": [
      "\u001b[1;36m  Cell \u001b[1;32mIn[11], line 1\u001b[1;36m\u001b[0m\n\u001b[1;33m    There are 8 rows and 8 columns.\u001b[0m\n\u001b[1;37m          ^\u001b[0m\n\u001b[1;31mSyntaxError\u001b[0m\u001b[1;31m:\u001b[0m invalid syntax\n"
     ]
    }
   ],
   "source": [
    "There are 8 rows and 8 columns."
   ]
  },
  {
   "cell_type": "markdown",
   "metadata": {},
   "source": [
    "f) When using the Manhattan distance, which two sentences are the most similar?"
   ]
  },
  {
   "cell_type": "code",
   "execution_count": 12,
   "metadata": {},
   "outputs": [
    {
     "name": "stdout",
     "output_type": "stream",
     "text": [
      "{(0, 1): 4, (0, 2): 7, (0, 3): 4, (0, 4): 4, (0, 5): 5, (0, 6): 7, (1, 2): 5, (1, 3): 6, (1, 4): 2, (1, 5): 5, (1, 6): 5, (2, 3): 3, (2, 4): 5, (2, 5): 4, (2, 6): 2, (3, 4): 8, (3, 5): 3, (3, 6): 5, (4, 5): 5, (4, 6): 3, (5, 6): 2}\n"
     ]
    }
   ],
   "source": [
    "def manhattan_distance(vector1, vector2):\n",
    "    distance = sum(abs(x - y) for x, y in zip(vector1, vector2))\n",
    "    return distance\n",
    "    \n",
    "distances = {}\n",
    "for i in range(num_sentences):\n",
    "    for j in range(i + 1, num_sentences):\n",
    "        sentence1_vector = matrix.matrix[i]\n",
    "        sentence2_vector = matrix.matrix[j]\n",
    "        distance = manhattan_distance(sentence1_vector, sentence2_vector)\n",
    "        sentences_key = (i, j)\n",
    "        distances[sentences_key] = distance\n",
    "\n",
    "print (distances)"
   ]
  },
  {
   "cell_type": "markdown",
   "metadata": {},
   "source": [
    "From the code, we see that the lowest distance is 2. Therefore, we have three sentences with a length of 2. This corresponds to vectors: (1,4), (2,6), and (5,6)."
   ]
  },
  {
   "cell_type": "markdown",
   "metadata": {},
   "source": [
    "#### Part 3 Challenge"
   ]
  },
  {
   "cell_type": "markdown",
   "metadata": {},
   "source": [
    "Given a set of graphs $\\mathcal{G}$, each graph $G \\in \\mathcal{G}$ is defined over the same set of nodes $V$. The graphs are represented by their adjacency matrices, which are 2D arrays where each element indicates whether a pair of nodes is connected by an edge.\n",
    "\n",
    "Your task is to compute the pairwise distances between these graphs based on a specific distance metric. The distance $d(G, G')$ between two graphs $G = (V, E)$ and $G' = (V, E')$ is defined as the sum of the number of edges in $G$ but not in $G'$, and the number of edges in $G'$ but not in $G$. Mathematically, this can be expressed as:\n",
    "\n",
    "$$\n",
    "d(G, G') = |E \\setminus E'| + |E' \\setminus E|.\n",
    "$$\n",
    "\n",
    "##### Requirements:\n",
    "1. **Input**: Should take a list of 2D numpy arrays as input. Each array represents the adjacency matrix of a graph.\n",
    "\n",
    "2. **Output**: Should output a pairwise distance matrix. If there are $n$ graphs in the input list, the output should be an $n \\times n$ matrix where the entry at position $(i, j)$ represents the distance between the $i^{th}$ and $j^{th}$ graph."
   ]
  },
  {
   "cell_type": "code",
   "execution_count": 1,
   "metadata": {},
   "outputs": [
    {
     "data": {
      "text/plain": [
       "array([[0., 4., 4.],\n",
       "       [4., 0., 4.],\n",
       "       [4., 4., 0.]])"
      ]
     },
     "execution_count": 1,
     "metadata": {},
     "output_type": "execute_result"
    }
   ],
   "source": [
    "import numpy as np\n",
    "\n",
    "def graph_distance(g1, g2):\n",
    "    return np.sum(np.abs(np.triu(g1) - np.triu(g2)))\n",
    "\n",
    "def pairwise_distance_matrix(graphs):\n",
    "    n = len(graphs)  \n",
    "    distance_matrix = np.zeros((n, n)) \n",
    "\n",
    "    for i in range(n):\n",
    "        for j in range(i+1, n): \n",
    "            distance = graph_distance(graphs[i], graphs[j])\n",
    "            distance_matrix[i, j] = distance\n",
    "            distance_matrix[j, i] = distance  \n",
    "\n",
    "    return distance_matrix\n",
    "\n",
    "g1 = np.array([[0, 1, 0, 0],\n",
    "               [1, 0, 1, 0],\n",
    "               [0, 1, 0, 1],\n",
    "               [0, 0, 1, 0]])\n",
    "\n",
    "g2 = np.array([[0, 1, 1, 0],\n",
    "               [1, 0, 0, 1],\n",
    "               [1, 0, 0, 0],\n",
    "               [0, 1, 0, 0]])\n",
    "\n",
    "g3 = np.array([[0, 0, 1, 1],\n",
    "               [0, 0, 1, 0],\n",
    "               [1, 1, 0, 0],\n",
    "               [1, 0, 0, 0]])\n",
    "\n",
    "graphs = [g1, g2, g3]\n",
    "\n",
    "pairwise_distances = pairwise_distance_matrix(graphs)\n",
    "pairwise_distances"
   ]
  },
  {
   "cell_type": "code",
   "execution_count": null,
   "metadata": {},
   "outputs": [],
   "source": []
  }
 ],
 "metadata": {
  "kernelspec": {
   "display_name": "Python 3 (ipykernel)",
   "language": "python",
   "name": "python3"
  },
  "language_info": {
   "codemirror_mode": {
    "name": "ipython",
    "version": 3
   },
   "file_extension": ".py",
   "mimetype": "text/x-python",
   "name": "python",
   "nbconvert_exporter": "python",
   "pygments_lexer": "ipython3",
   "version": "3.11.5"
  },
  "vscode": {
   "interpreter": {
    "hash": "76ca05dc3ea24b2e3b98cdb7774adfbb40773424bf5109b477fd793f623715af"
   }
  }
 },
 "nbformat": 4,
 "nbformat_minor": 4
}
