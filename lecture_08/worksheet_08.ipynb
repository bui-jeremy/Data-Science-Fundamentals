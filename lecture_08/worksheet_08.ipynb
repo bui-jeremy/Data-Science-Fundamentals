{
 "cells": [
  {
   "attachments": {},
   "cell_type": "markdown",
   "metadata": {},
   "source": [
    "# Worksheet 08\n",
    "\n",
    "Name: Rithvik Nakirikanti, Jeremy Bui, Zuizz Saeed\r\n",
    "\r\n",
    "UID: U5771846, U87383281, U0873146143\n",
    "\n",
    "### Topics\n",
    "\n",
    "- Soft Clustering\n",
    "- Clustering Aggregation\n",
    "\n",
    "### Probability Review\n",
    "\n",
    "Read through [the following](https://medium.com/@gallettilance/overview-of-probability-3272b72c82c8)\n",
    "\n",
    "### Soft Clustering\n",
    "\n",
    "We generate 10 data points that come from a normal distribution with mean 5 and variance 1."
   ]
  },
  {
   "cell_type": "code",
   "execution_count": 2,
   "metadata": {},
   "outputs": [
    {
     "name": "stdout",
     "output_type": "stream",
     "text": [
      "[7.40967476385077, 5.272108957912048, 5.675795327812533, 6.665536630380235, 5.365442962832252, 3.446336933861968, 4.297821480713935, 4.4270084165458226, 3.8628579360281927, 6.2771444718089375]\n"
     ]
    }
   ],
   "source": [
    "import random\n",
    "import numpy as np\n",
    "from sklearn.cluster import KMeans\n",
    "\n",
    "mean = 5\n",
    "stdev = 1\n",
    "\n",
    "s1 = np.random.normal(mean, stdev, 10).tolist()\n",
    "print(s1)"
   ]
  },
  {
   "cell_type": "markdown",
   "metadata": {},
   "source": [
    "a) Generate 10 more data points, this time coming from a normal distribution with mean 8 and variance 1."
   ]
  },
  {
   "cell_type": "code",
   "execution_count": 3,
   "metadata": {
    "scrolled": true
   },
   "outputs": [
    {
     "name": "stdout",
     "output_type": "stream",
     "text": [
      "[8.015540497863965, 9.931295780921216, 8.343188969947608, 9.018495536439001, 7.414391354528609, 7.024254608398037, 6.392749418729382, 8.923365426705509, 8.940048837975164, 7.99219932565554]\n"
     ]
    }
   ],
   "source": [
    "mean2 = 8\n",
    "stdev2 = 1\n",
    "s2 = np.random.normal(mean2,stdev2,10).tolist()\n",
    "print(s2)"
   ]
  },
  {
   "attachments": {},
   "cell_type": "markdown",
   "metadata": {},
   "source": [
    "b) Flip a fair coin 10 times. If the coin lands on H, then pick the last data point of `s1` and remove it from `s1`, if T then pick the last data point from `s2` and remove it from `s2`. Add these 10 points to a list called `data`."
   ]
  },
  {
   "cell_type": "code",
   "execution_count": 4,
   "metadata": {},
   "outputs": [
    {
     "name": "stdout",
     "output_type": "stream",
     "text": [
      "[6.2771444718089375, 3.8628579360281927, 7.99219932565554, 8.940048837975164, 4.4270084165458226, 4.297821480713935, 8.923365426705509, 3.446336933861968, 5.365442962832252, 6.392749418729382]\n"
     ]
    }
   ],
   "source": [
    "data = []\n",
    "for i in range(10):\n",
    "    # flip coin\n",
    "    coin_output = random.choice([0, 1])\n",
    "    if coin_output == 0:\n",
    "        p1 = s1.pop()\n",
    "        data.append(p1)\n",
    "    else:\n",
    "        p2 = s2.pop()\n",
    "        data.append(p2)\n",
    "print(data)"
   ]
  },
  {
   "cell_type": "markdown",
   "metadata": {},
   "source": [
    "c) This `data` is a Gaussian Mixture Distribution with 2 mixture components. Over the next few questions we will walk through the GMM algorithm to see if we can uncover the parameters we used to generate this data. First, please list all these parameters of the GMM that created `data` and the values we know they have."
   ]
  },
  {
   "cell_type": "markdown",
   "metadata": {},
   "source": [
    "The model we used to generate the data involves mixing together two different Gaussian distributions. Each of these distributions represents a group within our data. We know that one group has a mean of 5 and the other has a mean of 8. We also know that both groups have the same importance in our data, as we've set the mixing coefficients to be equal. Additionally, the variance within each group is the same, with a variance of 1. "
   ]
  },
  {
   "cell_type": "markdown",
   "metadata": {},
   "source": [
    "d) Let's assume there are two mixture components (note: we could plot the data and make the observation that there are two clusters). The EM algorithm asks us to start with a random `mean_j`, `variance_j`, `P(S_j)` for each component j. One method we could use to find sensible values for these is to apply K means with k=2 here.\n",
    "\n",
    "1. the centroids would be the estimates of the `mean_j`\n",
    "2. the intra-cluster variance could be the estimate of `variance_j`\n",
    "3. the proportion of points in each cluster could be the estimate of `P(S_j)`\n",
    "\n",
    "Go through this process and list the parameter estimates it gives. Are they close or far from the true values?"
   ]
  },
  {
   "cell_type": "code",
   "execution_count": 5,
   "metadata": {},
   "outputs": [
    {
     "name": "stdout",
     "output_type": "stream",
     "text": [
      "[6.2771444718089375, 3.8628579360281927, 4.4270084165458226, 4.297821480713935, 3.446336933861968, 5.365442962832252, 6.392749418729382]\n",
      "[7.99219932565554, 8.940048837975164, 8.923365426705509]\n",
      "P(S_1) = 0.7,  P(S_2) = 0.3\n",
      "mean_1 = 4.867051660074355,  mean_2 = 8.618537863445404\n",
      "var_1 = 1.158429385870782,  var_2 = 0.19619637132897125\n"
     ]
    }
   ],
   "source": [
    "kmeans = KMeans(2, init='k-means++').fit(X=np.array(data).reshape(-1, 1))\n",
    "\n",
    "s1 = [x[0] for x in filter(lambda x: x[1] == 0, zip(data, kmeans.labels_))]\n",
    "print(s1)\n",
    "s2 = [x[0] for x in filter(lambda x: x[1] == 1, zip(data, kmeans.labels_))]\n",
    "print(s2)\n",
    "\n",
    "prob_s = [ len(s1) / (len(s1) + len(s2)) , len(s2) / (len(s2) + len(s1)) ]\n",
    "mean = [ sum(s1)/len(s1) , sum(s2)/len(s2)]\n",
    "var = [ sum(map(lambda x : (x - mean[0])**2, s1)) / len(s1) , sum(map(lambda x : (x - mean[1])**2, s2)) / len(s2)]\n",
    "\n",
    "print(\"P(S_1) = \" + str(prob_s[0]) + \",  P(S_2) = \" + str(prob_s[1]))\n",
    "print(\"mean_1 = \" + str(mean[0]) + \",  mean_2 = \" + str(mean[1]))\n",
    "print(\"var_1 = \" + str(var[0]) + \",  var_2 = \" + str(var[1]))"
   ]
  },
  {
   "cell_type": "markdown",
   "metadata": {},
   "source": [
    "1. It seems like around 70% of the data points belong to one cluster, while about 30% belong to the other.\n",
    "2. \n",
    "The mean of the first cluster is estimated to be approximately 4.87, and for the second cluster, it's roughly 8.62.\n",
    "3. \r\n",
    "While the estimated means are quite close to the true values of 5 and 8, respectively, there's some discrepancy in the estimated proportions of points in each clusted.\n",
    "4. .\r\n",
    "Additionally, the estimated variance for the first cluster is close to 1, but for the second cluster, it's lower at aro 0.20.\n",
    "5. Overall, these estimates give us a reasonable starting point for understanding the distribution of our data, but there's still some room for improvement.20."
   ]
  },
  {
   "cell_type": "markdown",
   "metadata": {},
   "source": [
    "e) For each data point, compute `P(S_j | X_i)`. Comment on which cluster you think each point belongs to based on the estimated probabilities. How does that compare to the truth?"
   ]
  },
  {
   "cell_type": "code",
   "execution_count": 6,
   "metadata": {
    "scrolled": true
   },
   "outputs": [
    {
     "name": "stdout",
     "output_type": "stream",
     "text": [
      "point =  6.2771444718089375\n",
      "probability of observing that point if it came from cluster 0 =  0.16417098642367584\n",
      "probability of observing that point if it came from cluster 1 =  2.41214999333209e-31\n",
      "point =  3.8628579360281927\n",
      "probability of observing that point if it came from cluster 0 =  0.23651941132152002\n",
      "probability of observing that point if it came from cluster 1 =  5.294308663811554e-128\n",
      "point =  7.99219932565554\n",
      "probability of observing that point if it came from cluster 0 =  0.009050646919298229\n",
      "probability of observing that point if it came from cluster 1 =  0.01245007795147032\n",
      "point =  8.940048837975164\n",
      "probability of observing that point if it came from cluster 0 =  0.0007123019919481023\n",
      "probability of observing that point if it came from cluster 1 =  0.5309956759849109\n",
      "point =  4.4270084165458226\n",
      "probability of observing that point if it came from cluster 0 =  0.3204108523628498\n",
      "probability of observing that point if it came from cluster 1 =  1.578456254178556e-99\n",
      "point =  4.297821480713935\n",
      "probability of observing that point if it came from cluster 0 =  0.3052173045248149\n",
      "probability of observing that point if it came from cluster 1 =  9.87998374886447e-106\n",
      "point =  8.923365426705509\n",
      "probability of observing that point if it came from cluster 0 =  0.0007492212350873327\n",
      "probability of observing that point if it came from cluster 1 =  0.6081890778280161\n",
      "point =  3.446336933861968\n",
      "probability of observing that point if it came from cluster 0 =  0.16234200227850074\n",
      "probability of observing that point if it came from cluster 1 =  2.491358186228985e-151\n",
      "point =  5.365442962832252\n",
      "probability of observing that point if it came from cluster 0 =  0.31394023225632184\n",
      "probability of observing that point if it came from cluster 1 =  4.068050523929599e-60\n",
      "point =  6.392749418729382\n",
      "probability of observing that point if it came from cluster 0 =  0.14466989279922995\n",
      "probability of observing that point if it came from cluster 1 =  2.295624332079444e-28\n",
      "6.2771444718089375\n",
      "Probability of coming from S_1 = 1.0\n",
      "Probability of coming from S_2 = 6.2969626429789785e-31\n",
      "\n",
      "3.8628579360281927\n",
      "Probability of coming from S_1 = 1.0\n",
      "Probability of coming from S_2 = 9.593248244066479e-128\n",
      "\n",
      "7.99219932565554\n",
      "Probability of coming from S_1 = 0.6291115434338717\n",
      "Probability of coming from S_2 = 0.3708884565661283\n",
      "\n",
      "8.940048837975164\n",
      "Probability of coming from S_1 = 0.0031202739350883473\n",
      "Probability of coming from S_2 = 0.9968797260649117\n",
      "\n",
      "4.4270084165458226\n",
      "Probability of coming from S_1 = 1.0\n",
      "Probability of coming from S_2 = 2.1112931937296787e-99\n",
      "\n",
      "4.297821480713935\n",
      "Probability of coming from S_1 = 1.0\n",
      "Probability of coming from S_2 = 1.3872996998337253e-105\n",
      "\n",
      "8.923365426705509\n",
      "Probability of coming from S_1 = 0.0028661683659656875\n",
      "Probability of coming from S_2 = 0.9971338316340344\n",
      "\n",
      "3.446336933861968\n",
      "Probability of coming from S_1 = 1.0\n",
      "Probability of coming from S_2 = 6.57700978163111e-151\n",
      "\n",
      "5.365442962832252\n",
      "Probability of coming from S_1 = 1.0\n",
      "Probability of coming from S_2 = 5.553446310499597e-60\n",
      "\n",
      "6.392749418729382\n",
      "Probability of coming from S_1 = 1.0\n",
      "Probability of coming from S_2 = 6.800578755027981e-28\n",
      "\n"
     ]
    }
   ],
   "source": [
    "from scipy.stats import norm\n",
    "\n",
    "prob_s0_x = [] # P(S_0 | X_i)\n",
    "prob_s1_x = [] # P(S_1 | X_i)\n",
    "prob_x = [] # P(X_i)\n",
    "\n",
    "k = 2\n",
    "\n",
    "for p in data:\n",
    "    print(\"point = \", p)\n",
    "    pdf_i = []\n",
    "\n",
    "    for j in range(k):\n",
    "        # P(X_i | S_j)\n",
    "        pdf_i.append(norm.pdf(p, mean[j], var[j]))\n",
    "        print(\"probability of observing that point if it came from cluster \" + str(j) + \" = \", pdf_i[j])\n",
    "        # P(S_j) already computed\n",
    "        prob_s[j]\n",
    "\n",
    "    # P(X_i) = P(S_0)P(X_i | S_0) + P(S_1)P(X_i | S_1)\n",
    "    prob_x = prob_s[0] * pdf_i[0] + prob_s[1] * pdf_i[1]\n",
    "\n",
    "    # P(S_j | X_i) = P(X_i | S_j)P(S_j) / P(X_i)\n",
    "    prob_s0_x.append(pdf_i[0] * prob_s[0] / prob_x)\n",
    "    prob_s1_x.append(pdf_i[1] * prob_s[1] / prob_x)\n",
    "\n",
    "probs = zip(data, prob_s0_x, prob_s1_x)\n",
    "for p in probs:\n",
    "    print(p[0])\n",
    "    print(\"Probability of coming from S_1 = \" + str(p[1]))\n",
    "    print(\"Probability of coming from S_2 = \" + str(p[2]))\n",
    "    print()"
   ]
  },
  {
   "cell_type": "markdown",
   "metadata": {},
   "source": [
    "Overall, the computed probabilities provide a reasonable indication of the likely cluster assignment for each data point, and they generally align well with the true clusters based on the original data generation process. The only point that we see that nears both clusters is 7.99219932565554; this point has a probability of cluster 1 around 63% and cluster 2 around 37%. However, for the other points they are all 99% probability to one cluster. "
   ]
  },
  {
   "cell_type": "markdown",
   "metadata": {},
   "source": [
    "f) Having computed `P(S_j | X_i)`, update the estimates of `mean_j`, `var_j`, and `P(S_j)`. How different are these values from the original ones you got from K means? briefly comment."
   ]
  },
  {
   "cell_type": "code",
   "execution_count": 9,
   "metadata": {
    "scrolled": true
   },
   "outputs": [
    {
     "name": "stdout",
     "output_type": "stream",
     "text": [
      "P(S_1) = 0.7,  P(S_2) = 0.3\n",
      "mean_1 = 5.1277426715326975,  mean_2 = 8.784362879629175\n",
      "var_1 = 1.811803360218585,  var_2 = 0.2761698895102254\n"
     ]
    }
   ],
   "source": [
    "prob_c = [sum(prob_s0_x)/ len(prob_s0_x), sum(prob_s1_x)/ len(prob_s1_x)]\n",
    "mean = [sum([x[0] * x[1] for x in zip(prob_s0_x, data)]) / sum(prob_s0_x), sum([x[0] * x[1] for x in zip(prob_s1_x, data)]) / sum(prob_s1_x)]\n",
    "var = [sum([x[0] * (x[1] - mean[0]) ** 2 for x in zip(prob_s0_x, data)]) / sum(prob_s0_x), sum([x[0] * (x[1] - mean[1]) ** 2 for x in zip(prob_s1_x, data)])]\n",
    "\n",
    "print(\"P(S_1) = \" + str(prob_s[0]) + \",  P(S_2) = \" + str(prob_s[1]))\n",
    "print(\"mean_1 = \" + str(mean[0]) + \",  mean_2 = \" + str(mean[1]))\n",
    "print(\"var_1 = \" + str(var[0]) + \",  var_2 = \" + str(var[1]))"
   ]
  },
  {
   "cell_type": "markdown",
   "metadata": {},
   "source": [
    "Mixing Coefficient: After computing P(S_j | X_i), the updated estimates for the mixing coefficients are P(S_1) ≈ 0.7 and P(S_2) ≈ 0.3, which remain the same as the original estimates from K-means clustering. \r\n",
    "Mej): The updated estimates for the means are me1_= ≈ 5.13 and me2_= ≈ 8.78, indicating slight changes from the original estimates obtained from K-means clusterin \r\n",
    "\r\n",
    "Varir_j): The updated estimates for the variances are1a=_1 ≈ 1.81 and1a=_2 ≈ 0.28, showing noticeable differences from the original estimates derived from K-means clustering."
   ]
  },
  {
   "cell_type": "markdown",
   "metadata": {},
   "source": [
    "g) Update `P(S_j | X_i)`. Comment on any differences or lack thereof you observe."
   ]
  },
  {
   "cell_type": "code",
   "execution_count": 11,
   "metadata": {},
   "outputs": [
    {
     "name": "stdout",
     "output_type": "stream",
     "text": [
      "Updated probabilities for belonging to cluster 1 (S_1): [1.0, 1.0, 0.8455904166295571, 0.010004254963730768, 1.0, 1.0, 0.009194709811123886, 1.0, 1.0, 1.0]\n",
      "Updated probabilities for belonging to cluster 2 (S_2): [1.9504267877053962e-31, 2.9714212100650506e-128, 0.15440958337044286, 0.9899957450362692, 6.539538242841361e-100, 4.2970343807713555e-106, 0.9908052901888762, 2.0371688365337125e-151, 1.720129380179693e-60, 2.1064172884201543e-28]\n"
     ]
    }
   ],
   "source": [
    "updated_prob_s0_x = [prob_s0_x[i] * prob_c[0] / (prob_s0_x[i] * prob_c[0] + prob_s1_x[i] * prob_c[1]) for i in range(len(data))]\n",
    "updated_prob_s1_x = [prob_s1_x[i] * prob_c[1] / (prob_s0_x[i] * prob_c[0] + prob_s1_x[i] * prob_c[1]) for i in range(len(data))]\n",
    "\n",
    "print(\"Updated probabilities for belonging to cluster 1 (S_1):\", updated_prob_s0_x)\n",
    "print(\"Updated probabilities for belonging to cluster 2 (S_2):\", updated_prob_s1_x)"
   ]
  },
  {
   "cell_type": "markdown",
   "metadata": {},
   "source": [
    "Cluster s1: Most data points now have a probability of 1.0 for belonging to cluster 1, indicating high certainty.\n",
    "\n",
    "\n",
    "Cluster s2: Probabilities for cluster 2 are considerably smaller, suggesting higher uncertainty in these assignments.\n",
    "\n",
    "\n",
    "Changes from Initial Probabilities: Significant shifts are observed, particularly for certain data points, reflecting reassessment based on updated information.\n",
    "Impact: The updates demonstrate the dynamic nature of clustering algorithms, refining estimates based on available data. data."
   ]
  },
  {
   "cell_type": "markdown",
   "metadata": {},
   "source": [
    "h) Use `P(S_j | X_i)` to create a hard assignment - label each point as belonging to a specific cluster (0 or 1)"
   ]
  },
  {
   "cell_type": "code",
   "execution_count": 12,
   "metadata": {},
   "outputs": [
    {
     "name": "stdout",
     "output_type": "stream",
     "text": [
      "Hard assignment: [0, 0, 0, 1, 0, 0, 1, 0, 0, 0]\n"
     ]
    }
   ],
   "source": [
    "hard_assignment = [0 if updated_prob_s0_x[i] > updated_prob_s1_x[i] else 1 for i in range(len(data))]\n",
    "print(\"Hard assignment:\", hard_assignment)\n"
   ]
  },
  {
   "cell_type": "markdown",
   "metadata": {},
   "source": [
    "In this assignment, most data points are labeled as belonging to cluster 1, with only two data points assigned to cluster 2."
   ]
  },
  {
   "cell_type": "code",
   "execution_count": null,
   "metadata": {},
   "outputs": [],
   "source": []
  }
 ],
 "metadata": {
  "kernelspec": {
   "display_name": "Python 3 (ipykernel)",
   "language": "python",
   "name": "python3"
  },
  "language_info": {
   "codemirror_mode": {
    "name": "ipython",
    "version": 3
   },
   "file_extension": ".py",
   "mimetype": "text/x-python",
   "name": "python",
   "nbconvert_exporter": "python",
   "pygments_lexer": "ipython3",
   "version": "3.11.5"
  },
  "vscode": {
   "interpreter": {
    "hash": "e7370f93d1d0cde622a1f8e1c04877d8463912d04d973331ad4851f04de6915a"
   }
  }
 },
 "nbformat": 4,
 "nbformat_minor": 4
}
